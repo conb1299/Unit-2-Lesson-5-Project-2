{
 "cells": [
  {
   "cell_type": "code",
   "execution_count": 1,
   "metadata": {
    "collapsed": true
   },
   "outputs": [],
   "source": [
    "import math\n",
    "import warnings\n",
    "\n",
    "from IPython.display import display\n",
    "from matplotlib import pyplot as plt\n",
    "import numpy as np\n",
    "import pandas as pd\n",
    "import seaborn as sns\n",
    "from sklearn import linear_model\n",
    "import statsmodels.formula.api as smf\n",
    "\n",
    "# Display preferences.\n",
    "%matplotlib inline\n",
    "pd.options.display.float_format = '{:.3f}'.format\n",
    "\n",
    "# Suppress annoying harmless error.\n",
    "warnings.filterwarnings(\n",
    "    action=\"ignore\",\n",
    "    module=\"scipy\",\n",
    "    message=\"^internal gelsd\"\n",
    ")"
   ]
  },
  {
   "cell_type": "code",
   "execution_count": 2,
   "metadata": {
    "collapsed": true
   },
   "outputs": [],
   "source": [
    "raw = pd.ExcelFile('Crime.xls')"
   ]
  },
  {
   "cell_type": "code",
   "execution_count": 3,
   "metadata": {
    "collapsed": true
   },
   "outputs": [],
   "source": [
    "df = raw.parse('13tbl8ny')"
   ]
  },
  {
   "cell_type": "code",
   "execution_count": 4,
   "metadata": {
    "collapsed": true
   },
   "outputs": [],
   "source": [
    "df = df.drop(df.index[[0,1,2,3]])"
   ]
  },
  {
   "cell_type": "code",
   "execution_count": 5,
   "metadata": {
    "collapsed": true
   },
   "outputs": [],
   "source": [
    "df.drop('Unnamed: 4', axis=1, inplace=True)"
   ]
  },
  {
   "cell_type": "code",
   "execution_count": 6,
   "metadata": {
    "collapsed": true
   },
   "outputs": [],
   "source": [
    "df.rename(columns={'Table 8': 'City', 'Unnamed: 1': 'Population', 'Unnamed: 2': 'Violent Crime', 'Unnamed: 5': 'Murder/Manslaughter'}, inplace=True)"
   ]
  },
  {
   "cell_type": "code",
   "execution_count": 7,
   "metadata": {
    "collapsed": true
   },
   "outputs": [],
   "source": [
    "df.rename(columns={'Unnamed: 3': 'Murder', 'Murder/Manslaughter': 'Rape', 'Unnamed: 6': 'Robbery', \n",
    "                'Unnamed: 7': 'Aggravated Assault', 'Unnamed: 8': 'Property Crime', 'Unnamed: 9': 'Burglary',\n",
    "                'Unnamed: 10': 'Larceny-Theft', 'Unnamed: 11': 'Motor Vehicle Theft', 'Unnamed: 12': 'Arson'  }, inplace=True)"
   ]
  },
  {
   "cell_type": "code",
   "execution_count": 8,
   "metadata": {
    "collapsed": true
   },
   "outputs": [],
   "source": [
    "df = df.drop(df.index[[349,350,348]])"
   ]
  },
  {
   "cell_type": "code",
   "execution_count": 9,
   "metadata": {
    "collapsed": true
   },
   "outputs": [],
   "source": [
    "df['Population']= df['Population'].astype(int)"
   ]
  },
  {
   "cell_type": "code",
   "execution_count": 10,
   "metadata": {
    "collapsed": true
   },
   "outputs": [],
   "source": [
    "df = df[df['Population'] < 100000]"
   ]
  },
  {
   "cell_type": "code",
   "execution_count": 11,
   "metadata": {
    "collapsed": true
   },
   "outputs": [],
   "source": [
    "df['Population_2'] = df['Population']**2"
   ]
  },
  {
   "cell_type": "code",
   "execution_count": 12,
   "metadata": {
    "collapsed": true
   },
   "outputs": [],
   "source": [
    "df['Property Crime']= df['Property Crime'].astype(int)"
   ]
  },
  {
   "cell_type": "code",
   "execution_count": 13,
   "metadata": {
    "collapsed": true
   },
   "outputs": [],
   "source": [
    "df['Population_2'] = df['Population_2'].astype(int)"
   ]
  },
  {
   "cell_type": "code",
   "execution_count": 14,
   "metadata": {
    "collapsed": true
   },
   "outputs": [],
   "source": [
    "df['Robbery'] = df.Robbery.apply(lambda x: 0 if x== 0 else 1)"
   ]
  },
  {
   "cell_type": "code",
   "execution_count": 15,
   "metadata": {
    "collapsed": true
   },
   "outputs": [],
   "source": [
    "df['Murder'] = df.Murder.apply(lambda x: 0 if x== 0 else 1)"
   ]
  },
  {
   "cell_type": "markdown",
   "metadata": {},
   "source": [
    "### Previous Work\n",
    "All this work had been previously done in the prior projects. Here we took the data set, cleaned it, and changed the columns to reflect the data better. We removed any outliers of populations over 100000 people and converted all of the data to integers. Finally we became unconcerned with the amount of murders and robberies rather just factoring in whether murders or robberies took place. Our first model was as follows."
   ]
  },
  {
   "cell_type": "code",
   "execution_count": 16,
   "metadata": {},
   "outputs": [
    {
     "data": {
      "text/plain": [
       "LinearRegression(copy_X=True, fit_intercept=True, n_jobs=1, normalize=False)"
      ]
     },
     "execution_count": 16,
     "metadata": {},
     "output_type": "execute_result"
    }
   ],
   "source": [
    "regr = linear_model.LinearRegression()\n",
    "Y = df['Property Crime']\n",
    "X = df[['Murder', 'Robbery', 'Population', 'Population_2' ]]\n",
    "regr.fit(X, Y)\n"
   ]
  },
  {
   "cell_type": "code",
   "execution_count": 17,
   "metadata": {},
   "outputs": [
    {
     "name": "stdout",
     "output_type": "stream",
     "text": [
      "\n",
      "Coefficients: \n",
      " [  1.57350000e+02   3.76500000e+01   2.00000000e-02  -0.00000000e+00]\n",
      "\n",
      "Intercept: \n",
      " -58.923204464\n",
      "\n",
      "R-squared:\n",
      "0.734711719065\n"
     ]
    }
   ],
   "source": [
    "print('\\nCoefficients: \\n', np.round(regr.coef_,decimals=2))\n",
    "print('\\nIntercept: \\n', regr.intercept_)\n",
    "print('\\nR-squared:')\n",
    "print(regr.score(X, Y))\n",
    "pd.set_option('display.precision', 2)"
   ]
  },
  {
   "cell_type": "markdown",
   "metadata": {},
   "source": [
    "By changing the objects to integers we received coefficients that made logical sense yet our R-squared decreased as was seen in the previous model. The first decision we decide to make here is to try and eliminate the Population squared feature as it has no impact on the model. "
   ]
  },
  {
   "cell_type": "code",
   "execution_count": 18,
   "metadata": {},
   "outputs": [
    {
     "data": {
      "text/plain": [
       "LinearRegression(copy_X=True, fit_intercept=True, n_jobs=1, normalize=False)"
      ]
     },
     "execution_count": 18,
     "metadata": {},
     "output_type": "execute_result"
    }
   ],
   "source": [
    "regr = linear_model.LinearRegression()\n",
    "Y = df['Property Crime']\n",
    "X = df[['Murder', 'Robbery', 'Population', ]]\n",
    "regr.fit(X, Y)\n"
   ]
  },
  {
   "cell_type": "code",
   "execution_count": 19,
   "metadata": {},
   "outputs": [
    {
     "name": "stdout",
     "output_type": "stream",
     "text": [
      "\n",
      "Coefficients: \n",
      " [  1.64080000e+02   3.02100000e+01   2.00000000e-02]\n",
      "\n",
      "Intercept: \n",
      " -58.8428579548\n",
      "\n",
      "R-squared:\n",
      "0.73155787327\n"
     ]
    }
   ],
   "source": [
    "print('\\nCoefficients: \\n', np.round(regr.coef_,decimals=2))\n",
    "print('\\nIntercept: \\n', regr.intercept_)\n",
    "print('\\nR-squared:')\n",
    "print(regr.score(X, Y))\n",
    "pd.set_option('display.precision', 2)"
   ]
  },
  {
   "cell_type": "markdown",
   "metadata": {},
   "source": [
    "Our R-squared decreases a little but we remove a seemingly uselss feature. Let's look at our columns to see if there are other features we can add that would make meaningful sense for our model."
   ]
  },
  {
   "cell_type": "code",
   "execution_count": 20,
   "metadata": {},
   "outputs": [
    {
     "data": {
      "text/plain": [
       "['City',\n",
       " 'Population',\n",
       " 'Violent Crime',\n",
       " 'Murder',\n",
       " 'Rape',\n",
       " 'Robbery',\n",
       " 'Aggravated Assault',\n",
       " 'Property Crime',\n",
       " 'Burglary',\n",
       " 'Larceny-Theft',\n",
       " 'Motor Vehicle Theft',\n",
       " 'Arson',\n",
       " 'Population_2']"
      ]
     },
     "execution_count": 20,
     "metadata": {},
     "output_type": "execute_result"
    }
   ],
   "source": [
    "list(df.columns.values)\n",
    "#We predict Burglary can be good predictors of property crime. First we convert it to integers."
   ]
  },
  {
   "cell_type": "code",
   "execution_count": 21,
   "metadata": {
    "collapsed": true
   },
   "outputs": [],
   "source": [
    "df['Burglary']= df['Burglary'].astype(int)"
   ]
  },
  {
   "cell_type": "code",
   "execution_count": 32,
   "metadata": {},
   "outputs": [
    {
     "data": {
      "text/plain": [
       "LinearRegression(copy_X=True, fit_intercept=True, n_jobs=1, normalize=False)"
      ]
     },
     "execution_count": 32,
     "metadata": {},
     "output_type": "execute_result"
    }
   ],
   "source": [
    "regr = linear_model.LinearRegression()\n",
    "Y = df['Property Crime']\n",
    "X = df[['Murder', 'Robbery', 'Population','Burglary',]]\n",
    "regr.fit(X, Y)\n"
   ]
  },
  {
   "cell_type": "code",
   "execution_count": 33,
   "metadata": {},
   "outputs": [
    {
     "name": "stdout",
     "output_type": "stream",
     "text": [
      "\n",
      "Coefficients: \n",
      " [ -5.40500000e+01   2.82300000e+01   1.00000000e-02   3.39000000e+00]\n",
      "\n",
      "Intercept: \n",
      " -29.5736499864\n",
      "\n",
      "R-squared:\n",
      "0.925889009363\n"
     ]
    }
   ],
   "source": [
    "print('\\nCoefficients: \\n', np.round(regr.coef_,decimals=2))\n",
    "print('\\nIntercept: \\n', regr.intercept_)\n",
    "print('\\nR-squared:')\n",
    "print(regr.score(X, Y))\n",
    "pd.set_option('display.precision', 2)"
   ]
  },
  {
   "cell_type": "markdown",
   "metadata": {},
   "source": [
    "We have improved our model r-squared to 92.5889. Much better than our original model, however murder coefficient is negative. Let's run the correlation matrix to see if it is positively correlated with our desired outcome. "
   ]
  },
  {
   "cell_type": "code",
   "execution_count": 34,
   "metadata": {},
   "outputs": [
    {
     "data": {
      "text/html": [
       "<div>\n",
       "<style>\n",
       "    .dataframe thead tr:only-child th {\n",
       "        text-align: right;\n",
       "    }\n",
       "\n",
       "    .dataframe thead th {\n",
       "        text-align: left;\n",
       "    }\n",
       "\n",
       "    .dataframe tbody tr th {\n",
       "        vertical-align: top;\n",
       "    }\n",
       "</style>\n",
       "<table border=\"1\" class=\"dataframe\">\n",
       "  <thead>\n",
       "    <tr style=\"text-align: right;\">\n",
       "      <th></th>\n",
       "      <th>Population</th>\n",
       "      <th>Burglary</th>\n",
       "      <th>Property Crime</th>\n",
       "      <th>Murder</th>\n",
       "      <th>Robbery</th>\n",
       "    </tr>\n",
       "  </thead>\n",
       "  <tbody>\n",
       "    <tr>\n",
       "      <th>Population</th>\n",
       "      <td>1.000</td>\n",
       "      <td>0.723</td>\n",
       "      <td>0.849</td>\n",
       "      <td>0.470</td>\n",
       "      <td>0.443</td>\n",
       "    </tr>\n",
       "    <tr>\n",
       "      <th>Burglary</th>\n",
       "      <td>0.723</td>\n",
       "      <td>1.000</td>\n",
       "      <td>0.926</td>\n",
       "      <td>0.512</td>\n",
       "      <td>0.342</td>\n",
       "    </tr>\n",
       "    <tr>\n",
       "      <th>Property Crime</th>\n",
       "      <td>0.849</td>\n",
       "      <td>0.926</td>\n",
       "      <td>1.000</td>\n",
       "      <td>0.487</td>\n",
       "      <td>0.410</td>\n",
       "    </tr>\n",
       "    <tr>\n",
       "      <th>Murder</th>\n",
       "      <td>0.470</td>\n",
       "      <td>0.512</td>\n",
       "      <td>0.487</td>\n",
       "      <td>1.000</td>\n",
       "      <td>0.296</td>\n",
       "    </tr>\n",
       "    <tr>\n",
       "      <th>Robbery</th>\n",
       "      <td>0.443</td>\n",
       "      <td>0.342</td>\n",
       "      <td>0.410</td>\n",
       "      <td>0.296</td>\n",
       "      <td>1.000</td>\n",
       "    </tr>\n",
       "  </tbody>\n",
       "</table>\n",
       "</div>"
      ],
      "text/plain": [
       "                Population  Burglary  Property Crime  Murder  Robbery\n",
       "Population           1.000     0.723           0.849   0.470    0.443\n",
       "Burglary             0.723     1.000           0.926   0.512    0.342\n",
       "Property Crime       0.849     0.926           1.000   0.487    0.410\n",
       "Murder               0.470     0.512           0.487   1.000    0.296\n",
       "Robbery              0.443     0.342           0.410   0.296    1.000"
      ]
     },
     "execution_count": 34,
     "metadata": {},
     "output_type": "execute_result"
    }
   ],
   "source": [
    "df[['Population','Burglary', 'Property Crime', 'Murder', 'Robbery']].corr()"
   ]
  },
  {
   "cell_type": "markdown",
   "metadata": {},
   "source": [
    "Since negative coeffecient does not mean the model is incorrect we have improved our model significantly by doing a number of things. First, we made sure all data was either a float or integer. Next, we removed outliers to improve our model's accuracy. Then, we decided to remove the variable population_2 due to it having 0 coeffecient and very low impact on the model. Finally, we added the highly correlated Burglary variable which improved our R-Squared to a high number of 92.5%. Let's take one final look at the residuals to see where most of our errors fall."
   ]
  },
  {
   "cell_type": "code",
   "execution_count": 35,
   "metadata": {},
   "outputs": [
    {
     "data": {
      "image/png": "[encoded data removed]",
      "text/plain": [
       "<matplotlib.figure.Figure at 0x6af21d6ef0>"
      ]
     },
     "metadata": {},
     "output_type": "display_data"
    }
   ],
   "source": [
    "# Extract predicted values.\n",
    "predicted = regr.predict(X).ravel()\n",
    "actual = df['Property Crime']\n",
    "residual = actual - predicted\n",
    "\n",
    "\n",
    "plt.hist(residual)\n",
    "plt.title('Residual counts')\n",
    "plt.xlim(-2000,2000)\n",
    "plt.xlabel('Residual')\n",
    "plt.ylabel('Count')\n",
    "plt.show()\n"
   ]
  },
  {
   "cell_type": "markdown",
   "metadata": {},
   "source": [
    "Our Error looks extremely normal and almost all clustered around 0! A great success for our model. I am satisfied that using the  4 features of binary Murder and Robbery, and Burglary and population we have created a very good linear model."
   ]
  },
  {
   "cell_type": "code",
   "execution_count": 80,
   "metadata": {},
   "outputs": [],
   "source": [
    "#We will now preform a validation test\n",
    "linear_formula = 'Property_Crime ~ Population+Burglary+Robbery+Murder'\n",
    "data=df\n"
   ]
  },
  {
   "cell_type": "code",
   "execution_count": 81,
   "metadata": {},
   "outputs": [],
   "source": [
    "lm = smf.ols(formula=linear_formula, data=data).fit()"
   ]
  },
  {
   "cell_type": "code",
   "execution_count": 82,
   "metadata": {},
   "outputs": [
    {
     "data": {
      "text/plain": [
       "Intercept    -29.574\n",
       "Population     0.011\n",
       "Burglary       3.390\n",
       "Robbery       28.228\n",
       "Murder       -54.055\n",
       "dtype: float64"
      ]
     },
     "execution_count": 82,
     "metadata": {},
     "output_type": "execute_result"
    }
   ],
   "source": [
    "\n",
    "lm.params"
   ]
  },
  {
   "cell_type": "code",
   "execution_count": 83,
   "metadata": {},
   "outputs": [
    {
     "data": {
      "text/plain": [
       "Intercept    0.012\n",
       "Population   0.000\n",
       "Burglary     0.000\n",
       "Robbery      0.093\n",
       "Murder       0.040\n",
       "dtype: float64"
      ]
     },
     "execution_count": 83,
     "metadata": {},
     "output_type": "execute_result"
    }
   ],
   "source": [
    "lm.pvalues\n",
    "#Our Robbery pvalue is above .05 we will remove it."
   ]
  },
  {
   "cell_type": "code",
   "execution_count": 84,
   "metadata": {},
   "outputs": [
    {
     "data": {
      "text/plain": [
       "0.92588900936257967"
      ]
     },
     "execution_count": 84,
     "metadata": {},
     "output_type": "execute_result"
    }
   ],
   "source": [
    "lm.rsquared"
   ]
  },
  {
   "cell_type": "code",
   "execution_count": 89,
   "metadata": {},
   "outputs": [
    {
     "data": {
      "text/plain": [
       "Intercept    0.062\n",
       "Population   0.000\n",
       "Burglary     0.000\n",
       "Murder       0.060\n",
       "dtype: float64"
      ]
     },
     "execution_count": 89,
     "metadata": {},
     "output_type": "execute_result"
    }
   ],
   "source": [
    "linear_formula = 'Property_Crime ~ Population+Burglary+Murder'\n",
    "data=df\n",
    "lm = smf.ols(formula=linear_formula, data=data).fit()\n",
    "lm.pvalues\n",
    "#Murder is now above .05. We will Remove it."
   ]
  },
  {
   "cell_type": "code",
   "execution_count": 90,
   "metadata": {},
   "outputs": [
    {
     "data": {
      "text/plain": [
       "Intercept    0.056\n",
       "Population   0.000\n",
       "Burglary     0.000\n",
       "dtype: float64"
      ]
     },
     "execution_count": 90,
     "metadata": {},
     "output_type": "execute_result"
    }
   ],
   "source": [
    "linear_formula = 'Property_Crime ~ Population+Burglary'\n",
    "data=df\n",
    "lm = smf.ols(formula=linear_formula, data=data).fit()\n",
    "lm.pvalues"
   ]
  },
  {
   "cell_type": "code",
   "execution_count": 92,
   "metadata": {},
   "outputs": [
    {
     "data": {
      "text/plain": [
       "Intercept    -18.282\n",
       "Population     0.011\n",
       "Burglary       3.330\n",
       "dtype: float64"
      ]
     },
     "execution_count": 92,
     "metadata": {},
     "output_type": "execute_result"
    }
   ],
   "source": [
    "lm.params\n"
   ]
  },
  {
   "cell_type": "code",
   "execution_count": 91,
   "metadata": {},
   "outputs": [
    {
     "data": {
      "text/html": [
       "<table class=\"simpletable\">\n",
       "<caption>OLS Regression Results</caption>\n",
       "<tr>\n",
       "  <th>Dep. Variable:</th>     <td>Property_Crime</td>  <th>  R-squared:         </th> <td>   0.924</td> \n",
       "</tr>\n",
       "<tr>\n",
       "  <th>Model:</th>                   <td>OLS</td>       <th>  Adj. R-squared:    </th> <td>   0.924</td> \n",
       "</tr>\n",
       "<tr>\n",
       "  <th>Method:</th>             <td>Least Squares</td>  <th>  F-statistic:       </th> <td>   2075.</td> \n",
       "</tr>\n",
       "<tr>\n",
       "  <th>Date:</th>             <td>Wed, 03 Jan 2018</td> <th>  Prob (F-statistic):</th> <td>6.89e-191</td>\n",
       "</tr>\n",
       "<tr>\n",
       "  <th>Time:</th>                 <td>16:14:01</td>     <th>  Log-Likelihood:    </th> <td> -2164.6</td> \n",
       "</tr>\n",
       "<tr>\n",
       "  <th>No. Observations:</th>      <td>   342</td>      <th>  AIC:               </th> <td>   4335.</td> \n",
       "</tr>\n",
       "<tr>\n",
       "  <th>Df Residuals:</th>          <td>   339</td>      <th>  BIC:               </th> <td>   4347.</td> \n",
       "</tr>\n",
       "<tr>\n",
       "  <th>Df Model:</th>              <td>     2</td>      <th>                     </th>     <td> </td>    \n",
       "</tr>\n",
       "<tr>\n",
       "  <th>Covariance Type:</th>      <td>nonrobust</td>    <th>                     </th>     <td> </td>    \n",
       "</tr>\n",
       "</table>\n",
       "<table class=\"simpletable\">\n",
       "<tr>\n",
       "       <td></td>         <th>coef</th>     <th>std err</th>      <th>t</th>      <th>P>|t|</th>  <th>[0.025</th>    <th>0.975]</th>  \n",
       "</tr>\n",
       "<tr>\n",
       "  <th>Intercept</th>  <td>  -18.2823</td> <td>    9.531</td> <td>   -1.918</td> <td> 0.056</td> <td>  -37.029</td> <td>    0.464</td>\n",
       "</tr>\n",
       "<tr>\n",
       "  <th>Population</th> <td>    0.0112</td> <td>    0.001</td> <td>   17.417</td> <td> 0.000</td> <td>    0.010</td> <td>    0.012</td>\n",
       "</tr>\n",
       "<tr>\n",
       "  <th>Burglary</th>   <td>    3.3299</td> <td>    0.110</td> <td>   30.236</td> <td> 0.000</td> <td>    3.113</td> <td>    3.547</td>\n",
       "</tr>\n",
       "</table>\n",
       "<table class=\"simpletable\">\n",
       "<tr>\n",
       "  <th>Omnibus:</th>       <td>87.270</td> <th>  Durbin-Watson:     </th> <td>   2.040</td> \n",
       "</tr>\n",
       "<tr>\n",
       "  <th>Prob(Omnibus):</th> <td> 0.000</td> <th>  Jarque-Bera (JB):  </th> <td> 886.245</td> \n",
       "</tr>\n",
       "<tr>\n",
       "  <th>Skew:</th>          <td> 0.722</td> <th>  Prob(JB):          </th> <td>3.58e-193</td>\n",
       "</tr>\n",
       "<tr>\n",
       "  <th>Kurtosis:</th>      <td>10.753</td> <th>  Cond. No.          </th> <td>2.77e+04</td> \n",
       "</tr>\n",
       "</table>"
      ],
      "text/plain": [
       "<class 'statsmodels.iolib.summary.Summary'>\n",
       "\"\"\"\n",
       "                            OLS Regression Results                            \n",
       "==============================================================================\n",
       "Dep. Variable:         Property_Crime   R-squared:                       0.924\n",
       "Model:                            OLS   Adj. R-squared:                  0.924\n",
       "Method:                 Least Squares   F-statistic:                     2075.\n",
       "Date:                Wed, 03 Jan 2018   Prob (F-statistic):          6.89e-191\n",
       "Time:                        16:14:01   Log-Likelihood:                -2164.6\n",
       "No. Observations:                 342   AIC:                             4335.\n",
       "Df Residuals:                     339   BIC:                             4347.\n",
       "Df Model:                           2                                         \n",
       "Covariance Type:            nonrobust                                         \n",
       "==============================================================================\n",
       "                 coef    std err          t      P>|t|      [0.025      0.975]\n",
       "------------------------------------------------------------------------------\n",
       "Intercept    -18.2823      9.531     -1.918      0.056     -37.029       0.464\n",
       "Population     0.0112      0.001     17.417      0.000       0.010       0.012\n",
       "Burglary       3.3299      0.110     30.236      0.000       3.113       3.547\n",
       "==============================================================================\n",
       "Omnibus:                       87.270   Durbin-Watson:                   2.040\n",
       "Prob(Omnibus):                  0.000   Jarque-Bera (JB):              886.245\n",
       "Skew:                           0.722   Prob(JB):                    3.58e-193\n",
       "Kurtosis:                      10.753   Cond. No.                     2.77e+04\n",
       "==============================================================================\n",
       "\n",
       "Warnings:\n",
       "[1] Standard Errors assume that the covariance matrix of the errors is correctly specified.\n",
       "[2] The condition number is large, 2.77e+04. This might indicate that there are\n",
       "strong multicollinearity or other numerical problems.\n",
       "\"\"\""
      ]
     },
     "execution_count": 91,
     "metadata": {},
     "output_type": "execute_result"
    }
   ],
   "source": [
    "lm.summary()\n"
   ]
  },
  {
   "cell_type": "code",
   "execution_count": 60,
   "metadata": {
    "collapsed": true
   },
   "outputs": [],
   "source": [
    "df['Property_Crime'] = df['Property Crime']"
   ]
  },
  {
   "cell_type": "code",
   "execution_count": 93,
   "metadata": {},
   "outputs": [
    {
     "data": {
      "text/plain": [
       "LinearRegression(copy_X=True, fit_intercept=True, n_jobs=1, normalize=False)"
      ]
     },
     "execution_count": 93,
     "metadata": {},
     "output_type": "execute_result"
    }
   ],
   "source": [
    "regr = linear_model.LinearRegression()\n",
    "Y = df['Property_Crime']\n",
    "X = df[['Population','Burglary',]]\n",
    "regr.fit(X, Y)\n"
   ]
  },
  {
   "cell_type": "code",
   "execution_count": 94,
   "metadata": {},
   "outputs": [
    {
     "name": "stdout",
     "output_type": "stream",
     "text": [
      "\n",
      "Coefficients: \n",
      " [ 0.01  3.33]\n",
      "\n",
      "Intercept: \n",
      " -18.2822872643\n",
      "\n",
      "R-squared:\n",
      "0.924473068822\n"
     ]
    }
   ],
   "source": [
    "print('\\nCoefficients: \\n', np.round(regr.coef_,decimals=2))\n",
    "print('\\nIntercept: \\n', regr.intercept_)\n",
    "print('\\nR-squared:')\n",
    "print(regr.score(X, Y))\n",
    "pd.set_option('display.precision', 2)"
   ]
  },
  {
   "cell_type": "markdown",
   "metadata": {},
   "source": [
    "Our new model has a very similar r squared score and has removed the two features with questionable p values. Now we have a model that has removed outliers, simplified data, removed troubling features while adding another, and has a very high r squared value."
   ]
  }
 ],
 "metadata": {
  "kernelspec": {
   "display_name": "Python 3",
   "language": "python",
   "name": "python3"
  },
  "language_info": {
   "codemirror_mode": {
    "name": "ipython",
    "version": 3
   },
   "file_extension": ".py",
   "mimetype": "text/x-python",
   "name": "python",
   "nbconvert_exporter": "python",
   "pygments_lexer": "ipython3",
   "version": "3.6.1"
  }
 },
 "nbformat": 4,
 "nbformat_minor": 2
}
